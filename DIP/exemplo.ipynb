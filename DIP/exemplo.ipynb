{
 "cells": [
  {
   "cell_type": "markdown",
   "metadata": {},
   "source": [
    "O Princípio da Inversão de Dependência (DIP) afirma que:\n",
    "\n",
    "* Módulos de alto nível não devem depender de módulos de baixo nível. Ambos devem depender de abstrações."
   ]
  },
  {
   "cell_type": "code",
   "execution_count": 1,
   "metadata": {
    "dotnet_interactive": {
     "language": "csharp"
    },
    "polyglot_notebook": {
     "kernelName": "csharp"
    },
    "vscode": {
     "languageId": "polyglot-notebook"
    }
   },
   "outputs": [],
   "source": [
    "public abstract class Investimento\n",
    "{\n",
    "    public string Nome { get; set; }\n",
    "    public double ValorInvestido { get; set; }\n",
    "\n",
    "    protected Investimento(string nome, double valorInvestido)\n",
    "    {\n",
    "        Nome = nome;\n",
    "        ValorInvestido = valorInvestido;\n",
    "    }\n",
    "\n",
    "    public abstract double CalcularRetornoAnual();\n",
    "\n",
    "    public string Descrever()\n",
    "    {\n",
    "        return $\"Investimento: {Nome}, Valor Investido: R$ {ValorInvestido}\";\n",
    "    }\n",
    "}\n",
    "\n",
    "public interface IDepreciacao\n",
    "{\n",
    "    double CalcularDepreciacao();\n",
    "}\n",
    "\n",
    "public class Acao : Investimento\n",
    "{\n",
    "    public int Quantidade { get; set; }\n",
    "    public double PrecoPorAcao { get; set; }\n",
    "    public double DividendoAnual { get; set; }\n",
    "\n",
    "    public Acao(string nome, double valorInvestido, int quantidade, double precoPorAcao, double dividendoAnual)\n",
    "        : base(nome, valorInvestido)\n",
    "    {\n",
    "        Quantidade = quantidade;\n",
    "        PrecoPorAcao = precoPorAcao;\n",
    "        DividendoAnual = dividendoAnual;\n",
    "    }   \n",
    "\n",
    "    public override double CalcularRetornoAnual()\n",
    "    {\n",
    "        return Quantidade * DividendoAnual;\n",
    "    }\n",
    " \n",
    "}\n",
    "\n",
    "public class Titulo : Investimento\n",
    "{\n",
    "    public double TaxaDeJurosAnual { get; set; }\n",
    "\n",
    "    public Titulo(string nome, double valorInvestido, double taxaDeJurosAnual)\n",
    "        : base(nome, valorInvestido)\n",
    "    {\n",
    "        TaxaDeJurosAnual = taxaDeJurosAnual;\n",
    "    }\n",
    "\n",
    "   \n",
    "\n",
    "    public override double CalcularRetornoAnual()\n",
    "    {\n",
    "        return ValorInvestido * (TaxaDeJurosAnual / 100);\n",
    "    }\n",
    "  \n",
    "}\n",
    "\n",
    "public class Imovel : Investimento, IDepreciacao \n",
    "{\n",
    "    public double AluguelMensal { get; set; }\n",
    "\n",
    "    public Imovel(string nome, double valorInvestido, double aluguelMensal)\n",
    "        : base(nome, valorInvestido)\n",
    "    {\n",
    "        AluguelMensal = aluguelMensal;\n",
    "    }\n",
    "\n",
    "    public override double CalcularRetornoAnual()\n",
    "    {\n",
    "        return AluguelMensal * 12;\n",
    "    }   \n",
    "\n",
    "    public  double CalcularDepreciacao()\n",
    "    {\n",
    "        return ValorInvestido * 0.05;\n",
    "    }\n",
    "}"
   ]
  },
  {
   "cell_type": "markdown",
   "metadata": {},
   "source": [
    "Criando um UseCase"
   ]
  },
  {
   "cell_type": "code",
   "execution_count": 2,
   "metadata": {
    "dotnet_interactive": {
     "language": "csharp"
    },
    "polyglot_notebook": {
     "kernelName": "csharp"
    },
    "vscode": {
     "languageId": "polyglot-notebook"
    }
   },
   "outputs": [],
   "source": [
    "public class InvestimentoCalculaRetornoAnualUseCase\n",
    "{\n",
    "    public double CalcularRetornoAnualAcao(Acao acao)\n",
    "    {\n",
    "        return acao.CalcularRetornoAnual();\n",
    "    }\n",
    "\n",
    "    public double CalcularRetornoAnualTitulo(Titulo titulo)\n",
    "    {\n",
    "        return titulo.CalcularRetornoAnual();\n",
    "    }\n",
    "\n",
    "    public double CalcularRetornoAnualImovel(Imovel imovel)\n",
    "    {\n",
    "        return imovel.CalcularRetornoAnual();\n",
    "    }\n",
    "}\n"
   ]
  },
  {
   "cell_type": "code",
   "execution_count": 3,
   "metadata": {
    "dotnet_interactive": {
     "language": "csharp"
    },
    "polyglot_notebook": {
     "kernelName": "csharp"
    },
    "vscode": {
     "languageId": "polyglot-notebook"
    }
   },
   "outputs": [
    {
     "name": "stdout",
     "output_type": "stream",
     "text": [
      "Retorno anual Acao: R$ 500\n",
      "Retorno anual Titulo: R$ 700.0000000000001\n",
      "Retorno anual Imovel: R$ 18000\n"
     ]
    }
   ],
   "source": [
    "var titulo = new Titulo(\"Título Y\", 10000, 7);\n",
    "var acao = new Acao(\"Empresa X\", 5000, 100, 50, 5);\n",
    "var imovel = new Imovel(\"Apartamento Z\", 300000, 1500);\n",
    "\n",
    "var investimentoUseCase = new InvestimentoCalculaRetornoAnualUseCase();\n",
    "\n",
    "Console.WriteLine($\"Retorno anual Acao: R$ {investimentoUseCase.CalcularRetornoAnualAcao(acao)}\");\n",
    "Console.WriteLine($\"Retorno anual Titulo: R$ {investimentoUseCase.CalcularRetornoAnualTitulo(titulo)}\");\n",
    "Console.WriteLine($\"Retorno anual Imovel: R$ {investimentoUseCase.CalcularRetornoAnualImovel(imovel)}\");"
   ]
  }
 ],
 "metadata": {
  "kernelspec": {
   "display_name": ".NET (C#)",
   "language": "C#",
   "name": ".net-csharp"
  },
  "language_info": {
   "file_extension": ".cs",
   "mimetype": "text/x-csharp",
   "name": "C#",
   "pygments_lexer": "csharp",
   "version": "12.0"
  },
  "polyglot_notebook": {
   "kernelInfo": {
    "defaultKernelName": "csharp",
    "items": [
     {
      "aliases": [],
      "name": "csharp"
     }
    ]
   }
  }
 },
 "nbformat": 4,
 "nbformat_minor": 2
}
