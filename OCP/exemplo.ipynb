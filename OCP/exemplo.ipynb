{
 "cells": [
  {
   "cell_type": "markdown",
   "metadata": {},
   "source": [
    "O Princípio do Aberto/Fechado (OCP) é o segundo princípio do SOLID e afirma que entidades de software (classes, módulos, funções, etc.) devem estar abertas para extensão, mas fechadas para modificação. Isso significa que você deve ser capaz de adicionar novas funcionalidades sem alterar o código existente. https://programadriano.medium.com/princ%C3%ADpios-do-solid-com-typescript-2c6a4911242d\n"
   ]
  },
  {
   "cell_type": "code",
   "execution_count": 1,
   "metadata": {
    "dotnet_interactive": {
     "language": "csharp"
    },
    "polyglot_notebook": {
     "kernelName": "csharp"
    },
    "vscode": {
     "languageId": "polyglot-notebook"
    }
   },
   "outputs": [],
   "source": [
    "public abstract class Investimento\n",
    "{\n",
    "    public string Nome { get; set; }\n",
    "    public double ValorInvestido { get; set; }\n",
    "\n",
    "    protected Investimento(string nome, double valorInvestido)\n",
    "    {\n",
    "        Nome = nome;\n",
    "        ValorInvestido = valorInvestido;\n",
    "    }\n",
    "\n",
    "    public abstract double CalcularRetornoAnual();\n",
    "\n",
    "    public virtual string Descrever()\n",
    "    {\n",
    "        return $\"Investimento: {Nome}, Valor Investido: R$ {ValorInvestido}\";\n",
    "    }\n",
    "}"
   ]
  },
  {
   "cell_type": "markdown",
   "metadata": {},
   "source": [
    "Classe Acao"
   ]
  },
  {
   "cell_type": "code",
   "execution_count": 2,
   "metadata": {
    "dotnet_interactive": {
     "language": "csharp"
    },
    "polyglot_notebook": {
     "kernelName": "csharp"
    },
    "vscode": {
     "languageId": "polyglot-notebook"
    }
   },
   "outputs": [],
   "source": [
    "public class Acao : Investimento\n",
    "{\n",
    "    public int Quantidade { get; set; }\n",
    "    public double PrecoPorAcao { get; set; }\n",
    "    public double DividendoAnual { get; set; }\n",
    "\n",
    "    public Acao(string nome, double valorInvestido, int quantidade, double precoPorAcao, double dividendoAnual)\n",
    "        : base(nome, valorInvestido)\n",
    "    {\n",
    "        Quantidade = quantidade;\n",
    "        PrecoPorAcao = precoPorAcao;\n",
    "        DividendoAnual = dividendoAnual;\n",
    "    }\n",
    "\n",
    "    public override double CalcularRetornoAnual()\n",
    "    {\n",
    "        return Quantidade * DividendoAnual;\n",
    "    }\n",
    "\n",
    "    public override string Descrever()\n",
    "    {\n",
    "        return $\"{base.Descrever()}, Quantidade: {Quantidade}, Preço por Ação: R$ {PrecoPorAcao}, Dividendo Anual: R$ {DividendoAnual}\";\n",
    "    }\n",
    "}"
   ]
  },
  {
   "cell_type": "code",
   "execution_count": 3,
   "metadata": {
    "dotnet_interactive": {
     "language": "csharp"
    },
    "polyglot_notebook": {
     "kernelName": "csharp"
    },
    "vscode": {
     "languageId": "polyglot-notebook"
    }
   },
   "outputs": [],
   "source": [
    "public class Titulo : Investimento\n",
    "{\n",
    "    public double TaxaDeJurosAnual { get; set; }\n",
    "\n",
    "    public Titulo(string nome, double valorInvestido, double taxaDeJurosAnual)\n",
    "        : base(nome, valorInvestido)\n",
    "    {\n",
    "        TaxaDeJurosAnual = taxaDeJurosAnual;\n",
    "    }\n",
    "\n",
    "    public override double CalcularRetornoAnual()\n",
    "    {\n",
    "        return ValorInvestido * (TaxaDeJurosAnual / 100);\n",
    "    }\n",
    "\n",
    "    public override string Descrever()\n",
    "    {\n",
    "        return $\"{base.Descrever()}, Taxa de Juros Anual: {TaxaDeJurosAnual}%\";\n",
    "    }\n",
    "}"
   ]
  },
  {
   "cell_type": "code",
   "execution_count": 4,
   "metadata": {
    "dotnet_interactive": {
     "language": "csharp"
    },
    "polyglot_notebook": {
     "kernelName": "csharp"
    },
    "vscode": {
     "languageId": "polyglot-notebook"
    }
   },
   "outputs": [],
   "source": [
    "public class Imovel : Investimento\n",
    "{\n",
    "    public double AluguelMensal { get; set; }\n",
    "\n",
    "    public Imovel(string nome, double valorInvestido, double aluguelMensal)\n",
    "        : base(nome, valorInvestido)\n",
    "    {\n",
    "        AluguelMensal = aluguelMensal;\n",
    "    }\n",
    "\n",
    "    public override double CalcularRetornoAnual()\n",
    "    {\n",
    "        return AluguelMensal * 12;\n",
    "    }\n",
    "\n",
    "    public override string Descrever()\n",
    "    {\n",
    "        return $\"{base.Descrever()}, Aluguel Mensal: R$ {AluguelMensal}\";\n",
    "    }\n",
    "}\n"
   ]
  },
  {
   "cell_type": "markdown",
   "metadata": {},
   "source": [
    "Criando Acao Service"
   ]
  },
  {
   "cell_type": "code",
   "execution_count": 5,
   "metadata": {
    "dotnet_interactive": {
     "language": "csharp"
    },
    "polyglot_notebook": {
     "kernelName": "csharp"
    },
    "vscode": {
     "languageId": "polyglot-notebook"
    }
   },
   "outputs": [],
   "source": [
    "public class InvestimentoService\n",
    "{\n",
    "    public double CalcularRetornoAnual(Investimento investimento)\n",
    "    {\n",
    "        if (investimento is Acao acao)\n",
    "        {\n",
    "            return acao.Quantidade * acao.DividendoAnual;\n",
    "        }\n",
    "        else if (investimento is Titulo titulo)\n",
    "        {\n",
    "            return titulo.ValorInvestido * (titulo.TaxaDeJurosAnual / 100);\n",
    "        }\n",
    "        else if (investimento is Imovel imovel)\n",
    "        {\n",
    "            return imovel.AluguelMensal * 12;\n",
    "        }\n",
    "        throw new ArgumentException(\"Tipo de investimento desconhecido\");\n",
    "    }\n",
    "   \n",
    "}"
   ]
  },
  {
   "cell_type": "markdown",
   "metadata": {},
   "source": [
    "Executando o código"
   ]
  },
  {
   "cell_type": "code",
   "execution_count": 6,
   "metadata": {
    "dotnet_interactive": {
     "language": "csharp"
    },
    "polyglot_notebook": {
     "kernelName": "csharp"
    },
    "vscode": {
     "languageId": "polyglot-notebook"
    }
   },
   "outputs": [
    {
     "name": "stdout",
     "output_type": "stream",
     "text": [
      "Retorno anual: R$ 500\n",
      "Retorno anual: R$ 700.0000000000001\n",
      "Retorno anual: R$ 18000\n"
     ]
    }
   ],
   "source": [
    "var acao = new Acao(\"Empresa X\", 5000, 100, 50, 5);\n",
    "var titulo = new Titulo(\"Título Y\", 10000, 7);\n",
    "var imovel = new Imovel(\"Apartamento Z\", 300000, 1500);\n",
    "\n",
    "var investimentoService = new InvestimentoService();\n",
    "Console.WriteLine($\"Retorno anual: R$ {investimentoService.CalcularRetornoAnual(acao)}\");\n",
    "Console.WriteLine($\"Retorno anual: R$ {investimentoService.CalcularRetornoAnual(titulo)}\");\n",
    "Console.WriteLine($\"Retorno anual: R$ {investimentoService.CalcularRetornoAnual(imovel)}\");"
   ]
  }
 ],
 "metadata": {
  "kernelspec": {
   "display_name": ".NET (C#)",
   "language": "C#",
   "name": ".net-csharp"
  },
  "language_info": {
   "file_extension": ".cs",
   "mimetype": "text/x-csharp",
   "name": "C#",
   "pygments_lexer": "csharp",
   "version": "12.0"
  },
  "polyglot_notebook": {
   "kernelInfo": {
    "defaultKernelName": "csharp",
    "items": [
     {
      "aliases": [],
      "name": "csharp"
     }
    ]
   }
  }
 },
 "nbformat": 4,
 "nbformat_minor": 2
}
