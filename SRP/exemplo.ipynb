{
 "cells": [
  {
   "cell_type": "markdown",
   "metadata": {},
   "source": [
    "O Princípio da Responsabilidade Única (SRP) é o primeiro princípio do SOLID. Ele afirma que uma classe deve ter apenas uma razão para mudar, ou seja, ela deve ter apenas uma responsabilidade.\n"
   ]
  },
  {
   "cell_type": "code",
   "execution_count": 6,
   "metadata": {
    "dotnet_interactive": {
     "language": "csharp"
    },
    "polyglot_notebook": {
     "kernelName": "csharp"
    },
    "vscode": {
     "languageId": "polyglot-notebook"
    }
   },
   "outputs": [],
   "source": [
    "abstract class Investimento\n",
    "{\n",
    "    public string Nome { get; set; }\n",
    "    public double ValorInvestido { get; set; }\n",
    "\n",
    "    protected Investimento(string nome, double valorInvestido)\n",
    "    {\n",
    "        Nome = nome;\n",
    "        ValorInvestido = valorInvestido;\n",
    "    }\n",
    "\n",
    "    public abstract double CalcularRetornoAnual();\n",
    "\n",
    "    public string Descrever()\n",
    "    {\n",
    "        return $\"Investimento: {Nome}, Valor Investido: R$ {ValorInvestido}\";\n",
    "    }\n",
    "}\n"
   ]
  },
  {
   "cell_type": "markdown",
   "metadata": {},
   "source": [
    "Classe Acao"
   ]
  },
  {
   "cell_type": "code",
   "execution_count": 7,
   "metadata": {
    "dotnet_interactive": {
     "language": "csharp"
    },
    "polyglot_notebook": {
     "kernelName": "csharp"
    },
    "vscode": {
     "languageId": "polyglot-notebook"
    }
   },
   "outputs": [],
   "source": [
    "class Acao : Investimento\n",
    "{\n",
    "    public int Quantidade { get; set; }\n",
    "    public double PrecoPorAcao { get; set; }\n",
    "    public double DividendoAnual { get; set; }\n",
    "\n",
    "    public Acao(string nome, double valorInvestido, int quantidade, double precoPorAcao, double dividendoAnual)\n",
    "        : base(nome, valorInvestido)\n",
    "    {\n",
    "        Quantidade = quantidade;\n",
    "        PrecoPorAcao = precoPorAcao;\n",
    "        DividendoAnual = dividendoAnual;\n",
    "    }\n",
    "\n",
    "    public override double CalcularRetornoAnual()\n",
    "    {\n",
    "        return Quantidade * DividendoAnual;\n",
    "    }\n",
    "  \n",
    "}"
   ]
  },
  {
   "cell_type": "markdown",
   "metadata": {},
   "source": [
    "Criando Acao Service"
   ]
  },
  {
   "cell_type": "code",
   "execution_count": 8,
   "metadata": {
    "dotnet_interactive": {
     "language": "csharp"
    },
    "polyglot_notebook": {
     "kernelName": "csharp"
    },
    "vscode": {
     "languageId": "polyglot-notebook"
    }
   },
   "outputs": [],
   "source": [
    "class AcaoService\n",
    "{\n",
    "    public double CalcularRetornoAnual(Acao acao)\n",
    "    {\n",
    "        return acao.Quantidade * acao.DividendoAnual;\n",
    "    }\n",
    "\n",
    "    public string Descrever(Acao acao)\n",
    "    {\n",
    "        return $\"Ação: {acao.Nome}, Quantidade: {acao.Quantidade}, Preço por Ação: R$ {acao.PrecoPorAcao}, Dividendo Anual: R$ {acao.DividendoAnual}\";\n",
    "    }\n",
    "\n",
    "    public void Save(Acao acao)\n",
    "    {\n",
    "        Console.WriteLine($\"Saving investment: {System.Text.Json.JsonSerializer.Serialize(acao)}\");\n",
    "    }\n",
    "}"
   ]
  },
  {
   "cell_type": "markdown",
   "metadata": {},
   "source": [
    "Executando o código"
   ]
  },
  {
   "cell_type": "code",
   "execution_count": 10,
   "metadata": {
    "dotnet_interactive": {
     "language": "csharp"
    },
    "polyglot_notebook": {
     "kernelName": "csharp"
    },
    "vscode": {
     "languageId": "polyglot-notebook"
    }
   },
   "outputs": [
    {
     "name": "stdout",
     "output_type": "stream",
     "text": [
      "Ação: Empresa X, Quantidade: 1000, Preço por Ação: R$ 500, Dividendo Anual: R$ 5\n",
      "Retorno anual: R$ 5000\n",
      "Saving investment: {\"Quantidade\":1000,\"PrecoPorAcao\":500,\"DividendoAnual\":5,\"Nome\":\"Empresa X\",\"ValorInvestido\":5000}\n"
     ]
    }
   ],
   "source": [
    "Acao acao = new Acao(\"Empresa X\", 5000, 1000, 500, 5);\n",
    "AcaoService acaoService = new AcaoService();\n",
    "        \n",
    "Console.WriteLine(acaoService.Descrever(acao));\n",
    "Console.WriteLine($\"Retorno anual: R$ {acaoService.CalcularRetornoAnual(acao)}\");\n",
    "acaoService.Save(acao);"
   ]
  }
 ],
 "metadata": {
  "kernelspec": {
   "display_name": ".NET (C#)",
   "language": "C#",
   "name": ".net-csharp"
  },
  "language_info": {
   "file_extension": ".cs",
   "mimetype": "text/x-csharp",
   "name": "C#",
   "pygments_lexer": "csharp",
   "version": "12.0"
  },
  "polyglot_notebook": {
   "kernelInfo": {
    "defaultKernelName": "csharp",
    "items": [
     {
      "aliases": [],
      "name": "csharp"
     }
    ]
   }
  }
 },
 "nbformat": 4,
 "nbformat_minor": 2
}
